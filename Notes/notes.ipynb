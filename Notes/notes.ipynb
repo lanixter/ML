{
 "cells": [
  {
   "cell_type": "markdown",
   "metadata": {},
   "source": [
    "# Machine Learning\n",
    "\n",
    "*A computer program is said to learn from experience E with respect to some class of tasks T and performance measure P, if its performance at tasks in T, as measured by P, improves with experience E.*\n",
    "\n",
    "E = Experience;\n",
    "T = Task;\n",
    "P = Performance Measure;"
   ]
  },
  {
   "cell_type": "markdown",
   "metadata": {},
   "source": [
    "### Supervised Learning\n",
    "*We are given a data set and already know what our correct output should look like, having the idea that there is a relationship between the input and the output.*\n",
    "\n",
    "- Regression\n",
    "<br />Predict results within a continuous output.\n",
    "\n",
    "- Classification\n",
    "<br />Predict results in a discrete output."
   ]
  },
  {
   "cell_type": "markdown",
   "metadata": {},
   "source": [
    "### Unsupervised Learning\n",
    "*We derive structure from data where we don't necessarily know the effect of the variables. This structure is derived by clustering the data based on relationships among the variables in the data.*"
   ]
  },
  {
   "cell_type": "markdown",
   "metadata": {},
   "source": [
    "#### Model Representation\n",
    "Let $x^{(i)}$ denote input and $y^{(i)}$ denote output.\n",
    "<br/>A pair $(x^{(i)}, y^{(i)})$ is called a training example.\n",
    "<br/>Our goal is, given a training set, to learn a function $h : X → Y$ so that $h(x)$ is a \"good\" predictor for the corresponding value of y. This function h is called a hypothesis.\n",
    "\n",
    "\n",
    "##### Cost Function\n",
    "The accuracy of hypothesis function is measured using a **cost function**. THis function is basically \"Squared error function\" or \"Mean squared error\".\n",
    "\n",
    "$Hypothesis:\\\\$\n",
    "$h_{\\theta}(x) = \\theta_{0} + \\theta_{1}x\\\\$\n",
    "\n",
    "$Parameters:\\\\$\n",
    "$\\theta_{0}, \\theta_{1}\\\\ \\\\$\n",
    "\n",
    "$Cost \\hspace{3px} Function:\\\\$\n",
    "$J(\\theta_{0}, \\theta_{1}) = \\frac{1}{2m}\\sum_{i=1}^{m} (h_{\\theta}(x_{i})-y_{i})^{2}\\\\$\n",
    "\n",
    "$Goal:\\\\$\n",
    "$minimize \\hspace{3px} J(\\theta_{0}, \\theta_{1}) \\\\$\n",
    "$\\hspace{18px} ^{\\theta_{0}, \\theta_{1}}$\n",
    "\n",
    "The mean is halved as a convenience for the computation of the gradient descent, as the derivative term of the square function will cancel out the $\\frac{1}{2}$ term.\n"
   ]
  },
  {
   "cell_type": "markdown",
   "metadata": {},
   "source": []
  }
 ],
 "metadata": {
  "language_info": {
   "name": "python"
  },
  "orig_nbformat": 4
 },
 "nbformat": 4,
 "nbformat_minor": 2
}
